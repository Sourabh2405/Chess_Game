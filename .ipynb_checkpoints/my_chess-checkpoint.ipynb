{
 "cells": [
  {
   "cell_type": "code",
   "execution_count": 1,
   "id": "e4175d50",
   "metadata": {},
   "outputs": [
    {
     "name": "stdout",
     "output_type": "stream",
     "text": [
      "Requirement already satisfied: pygame in c:\\anaconda\\lib\\site-packages (2.5.2)\n",
      "Note: you may need to restart the kernel to use updated packages.\n"
     ]
    }
   ],
   "source": [
    "pip install pygame"
   ]
  },
  {
   "cell_type": "code",
   "execution_count": 2,
   "id": "97093725",
   "metadata": {},
   "outputs": [
    {
     "name": "stdout",
     "output_type": "stream",
     "text": [
      "pygame 2.5.2 (SDL 2.28.3, Python 3.9.12)\n",
      "Hello from the pygame community. https://www.pygame.org/contribute.html\n"
     ]
    }
   ],
   "source": [
    "import pygame"
   ]
  },
  {
   "cell_type": "code",
   "execution_count": 3,
   "id": "3d4b17c3",
   "metadata": {},
   "outputs": [
    {
     "data": {
      "text/plain": [
       "(5, 0)"
      ]
     },
     "execution_count": 3,
     "metadata": {},
     "output_type": "execute_result"
    }
   ],
   "source": [
    "pygame.init()"
   ]
  },
  {
   "cell_type": "code",
   "execution_count": 4,
   "id": "783fb4e1",
   "metadata": {},
   "outputs": [],
   "source": [
    "width=500\n",
    "height=500\n",
    "screen= pygame.display.set_mode([width,height])\n",
    "font= pygame.font.Font('freesansbold.ttf', 20)\n",
    "big_font= pygame.font.Font('freesansbold.ttf', 50)\n",
    "pygame.display.set_caption('TWO PLAYER CHESS')\n",
    "timer= pygame.time.Clock()\n",
    "fps=60"
   ]
  },
  {
   "cell_type": "code",
   "execution_count": 10,
   "id": "cc6fc378",
   "metadata": {},
   "outputs": [],
   "source": [
    "#game variables and images\n",
    "white_pieces= ['rook', 'knight', 'bishop', 'king','queen', 'bishop', 'knight', 'rook',\n",
    "               'pawn', 'pawn', 'pawn', 'pawn', 'pawn', 'pawn', 'pawn', 'pawn']\n",
    "white_locations= [(0,0), (0,1), (0,2), (0,3), (0,4), (0,5), (0,6), (0,7),\n",
    "                  (1,0), (1,1), (1,2), (1,3), (1,4), (1,5), (1,6), (1,7)]\n",
    "\n",
    "black_pieces= ['rook', 'knight', 'bishop', 'king','queen', 'bishop', 'knight', 'rook',\n",
    "               'pawn', 'pawn', 'pawn', 'pawn', 'pawn', 'pawn', 'pawn', 'pawn']\n",
    "black_locations= [(7,0), (7,1), (7,2), (7,3), (7,4), (7,5), (7,6), (7,7),\n",
    "                  (6,0), (6,1), (6,2), (6,3), (6,4), (6,5), (6,6), (6,7)]\n",
    "\n",
    "captured_pieces_white=[]\n",
    "captured_pieces_black=[]\n",
    "\n",
    "#0-white turn, no piece selected, 1-white moved 2-black turn, no piece selected, 3-black moved\n",
    "turn_step=0\n",
    "selection=0\n",
    "valid_moves=[]\n",
    "\n",
    "#load in game pieces\n",
    "black_queen= pygame.image.load('images/bQ.png')\n",
    "black_queen=pygame.image.scale(black_queen, (80,80))\n",
    "black_king=pygame.image.load('images/bK.png')\n",
    "black_king=pygame.image.scale(black_king, (80,80))\n",
    "black_rook=pygame.image.load('images/bR.png')\n",
    "black_rook=pygame.image.scale(black_rook, (80,80))\n",
    "black_knight=pygame.image.load('images/bK.png')\n",
    "black_knight=pygame.image.scale(black_knight, (80,80))\n",
    "black_pawn=pygame.image.load('images/bp.png')\n",
    "black_pawn=pygame.image.scale(black_pawn, (80,80))\n",
    "\n",
    "white_queen= pygame.image.load('images/wQ.png')\n",
    "white_queen=pygame.image.scale(white_queen, (80,80))\n",
    "white_king=pygame.image.load('images/wK.png')\n",
    "white_king=pygame.image.scale(white_king, (80,80))\n",
    "white_rook=pygame.image.load('images/wR.png')\n",
    "white\n",
    "=pygame.image.scale(black_queen, (80,80))\n",
    "white_knight=pygame.image.load('images/wK.png')\n",
    "black_queen=pygame.image.scale(black_queen, (80,80))\n",
    "white_pawn=pygame.image.load('images/wp.png')\n",
    "black_queen=pygame.image.scale(black_queen, (80,80))"
   ]
  },
  {
   "cell_type": "code",
   "execution_count": 6,
   "id": "fdae89e2",
   "metadata": {},
   "outputs": [],
   "source": [
    "#game frame\n",
    "run= True\n",
    "while run:\n",
    "    timer.tick(fps)\n",
    "    screen.fill('dark gray')\n",
    "    \n",
    "    #for event handling ie. mouse, keyboard etc\n",
    "    for event in pygame.event.get():\n",
    "        if event.type == pygame.QUIT:\n",
    "            run= False\n",
    "    \n",
    "    pygame.display.flip()\n",
    "pygame.quit()\n",
    "        "
   ]
  },
  {
   "cell_type": "code",
   "execution_count": 8,
   "id": "a2aa5d71",
   "metadata": {},
   "outputs": [
    {
     "name": "stdout",
     "output_type": "stream",
     "text": [
      "Current working directory: C:\\Users\\Sourabh Chouhan\\Desktop\\New folder (3)\n"
     ]
    }
   ],
   "source": []
  },
  {
   "cell_type": "code",
   "execution_count": null,
   "id": "2734068c",
   "metadata": {},
   "outputs": [],
   "source": []
  }
 ],
 "metadata": {
  "kernelspec": {
   "display_name": "Python 3 (ipykernel)",
   "language": "python",
   "name": "python3"
  },
  "language_info": {
   "codemirror_mode": {
    "name": "ipython",
    "version": 3
   },
   "file_extension": ".py",
   "mimetype": "text/x-python",
   "name": "python",
   "nbconvert_exporter": "python",
   "pygments_lexer": "ipython3",
   "version": "3.9.12"
  }
 },
 "nbformat": 4,
 "nbformat_minor": 5
}
